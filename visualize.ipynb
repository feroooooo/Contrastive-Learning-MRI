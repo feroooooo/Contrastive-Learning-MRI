{
 "cells": [
  {
   "cell_type": "code",
   "execution_count": null,
   "metadata": {},
   "outputs": [],
   "source": [
    "import nibabel as nib\n",
    "import matplotlib.pyplot as plt\n",
    "import numpy as np\n",
    "import torch\n",
    "from monai.transforms import *"
   ]
  },
  {
   "cell_type": "code",
   "execution_count": null,
   "metadata": {},
   "outputs": [],
   "source": [
    "file_path = r\"E:\\Data\\ADNI\\adni-fnirt-corrected\\brain_adni_0021_I338266_fsld.nii.gz\""
   ]
  },
  {
   "cell_type": "code",
   "execution_count": null,
   "metadata": {},
   "outputs": [],
   "source": [
    "# 使用nibabel加载nii.gz文件\n",
    "nii_img = nib.load(file_path)\n",
    "nii_img_process = nii_img.get_fdata()\n",
    "nii_img_process = nii_img_process.astype(np.float32)\n",
    "nii_img_process = torch.from_numpy(nii_img_process)\n",
    "nii_img_process = nii_img_process.unsqueeze(0)\n",
    "print(nii_img_process.shape)\n",
    "\n",
    "size = 100\n",
    "data_transforms = Compose([\n",
    "    # RandRotate90(prob=0.5, spatial_axes=[1, 2]),\n",
    "    # RandFlip(prob=0.5, spatial_axis=0),\n",
    "    \n",
    "    # RandAdjustContrast(prob=0.5),\n",
    "    # RandGaussianNoise(prob=0.3),\n",
    "    # RandAffine(prob=0.5, translate_range=10, scale_range=(0.9, 1.1), rotate_range=45),\n",
    "    \n",
    "    Resize(spatial_size=[size, size, size]),\n",
    "    # NormalizeIntensity(nonzero=True, channel_wise=True),\n",
    "])\n",
    "\n",
    "nii_img_process = data_transforms(nii_img_process)\n",
    "nii_img_process = nii_img_process.squeeze(0)\n",
    "nii_img_process = nii_img_process.numpy()\n",
    "\n",
    "print(nii_img_process.shape)\n",
    "\n",
    "image_data = nii_img_process\n"
   ]
  },
  {
   "cell_type": "code",
   "execution_count": null,
   "metadata": {},
   "outputs": [],
   "source": [
    "print(image_data[40][40])"
   ]
  },
  {
   "cell_type": "code",
   "execution_count": null,
   "metadata": {},
   "outputs": [],
   "source": [
    "# 获取图像数据为numpy数组\n",
    "# image_data = nii_img.get_fdata()\n",
    "\n",
    "# 打印图像维度\n",
    "print(\"Image shape:\", image_data.shape)\n",
    "\n",
    "# 可视化每一层切片\n",
    "num_slices = image_data.shape[-1]\n",
    "\n",
    "# 设置子图的行数和列数\n",
    "num_rows = num_slices // 10 + 1  # 每行显示10个切片\n",
    "num_cols = min(num_slices, 10)\n",
    "\n",
    "# 设置子图的大小\n",
    "fig, axes = plt.subplots(num_rows, num_cols, figsize=(15, 15))\n",
    "\n",
    "# 遍历每一层切片并可视化\n",
    "for i in range(num_slices):\n",
    "    row_idx = i // 10\n",
    "    col_idx = i % 10\n",
    "\n",
    "    # 在子图中显示每一层切片\n",
    "    axes[row_idx, col_idx].imshow(np.flipud(image_data[:,:,i].T), cmap='gray')\n",
    "    axes[row_idx, col_idx].axis('off')  # 关闭坐标轴\n",
    "\n",
    "# 如果切片数量不是10的倍数，隐藏多余的子图\n",
    "for i in range(num_slices, num_rows * num_cols):\n",
    "    row_idx = i // 10\n",
    "    col_idx = i % 10\n",
    "    fig.delaxes(axes[row_idx, col_idx])\n",
    "\n",
    "plt.show()\n",
    "\n",
    "# 保存切片\n",
    "# print(f\"num of slices:{num_slices}\")\n",
    "# plt.clf()\n",
    "# for i in range(num_slices):\n",
    "##     plt.imshow(image_data[:, :, i])\n",
    "#     plt.imsave(f\"./image/slice_{i+1}.jpg\", image_data[:, :, i], cmap='gray')\n",
    "    \n",
    "\n",
    "\n",
    "\n",
    "# 查看图像大小\n",
    "height, width, depth = image_data.shape\n",
    "print(f\"The image object height: {height}, width:{width}, depth:{depth}\")\n",
    "# 查看图像值范围\n",
    "print(f'image value range: [{image_data.min()}, {image_data.max()}]')\n",
    "\n",
    "# 查看图像成像信息，如 层厚，平面（in-plane）分辨率等\n",
    "\n",
    "# 矩阵以外的信息可以通过 image_obj.header 获取\n",
    "\n",
    "# header是键值对，查看 header 包含的所有信息\n",
    "print('headers', nii_img.header.keys())\n",
    "# 查看成像信息\n",
    "pixdim = nii_img.header['pixdim']\n",
    "print(f'z轴分辨率： {pixdim[3]}')\n",
    "print(f'in plane 分辨率： {pixdim[1]} * {pixdim[2]}')\n",
    "x_range = pixdim[1] * height\n",
    "y_range = pixdim[2] * width\n",
    "z_range = pixdim[3] * depth\n",
    "print(f\"The image object x_range: {x_range}, y_range:{y_range}, z_range:{z_range}\")\n",
    "# 整个数据\n",
    "print('img1_obj', nii_img)"
   ]
  },
  {
   "cell_type": "code",
   "execution_count": null,
   "metadata": {},
   "outputs": [],
   "source": [
    "print(num_slices)\n",
    "print(num_rows)"
   ]
  },
  {
   "cell_type": "code",
   "execution_count": null,
   "metadata": {},
   "outputs": [],
   "source": []
  }
 ],
 "metadata": {
  "kernelspec": {
   "display_name": "mri",
   "language": "python",
   "name": "python3"
  },
  "language_info": {
   "codemirror_mode": {
    "name": "ipython",
    "version": 3
   },
   "file_extension": ".py",
   "mimetype": "text/x-python",
   "name": "python",
   "nbconvert_exporter": "python",
   "pygments_lexer": "ipython3",
   "version": "3.11.7"
  }
 },
 "nbformat": 4,
 "nbformat_minor": 2
}
