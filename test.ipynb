{
 "cells": [
  {
   "cell_type": "code",
   "execution_count": null,
   "metadata": {},
   "outputs": [],
   "source": [
    "import torch\n",
    "from medcam import medcam\n",
    "from monai import transforms\n",
    "import numpy as np\n",
    "import nibabel as nib\n",
    "from model import VoxResNet, VGG3D"
   ]
  },
  {
   "cell_type": "code",
   "execution_count": null,
   "metadata": {},
   "outputs": [],
   "source": [
    "device = torch.device('cuda' if torch.cuda.is_available() else 'cpu')\n",
    "model = VGG3D().to(device)\n",
    "# model = VoxResNet().to(device)\n",
    "\n",
    "# checkpoint_path = r\"C:\\Users\\17993\\Downloads\\best_epoch17.pth\"\n",
    "# checkpoint = torch.load(checkpoint_path, map_location=torch.device(device))\n",
    "\n",
    "# # 加载模型权重\n",
    "# model.load_state_dict(checkpoint['model'])\n",
    "\n",
    "# # 获取保存的accuracy, loss和epoch\n",
    "# accuracy = checkpoint['accuracy']\n",
    "# validation_loss = checkpoint['loss']\n",
    "# epoch = checkpoint['epoch']\n",
    "# print(f\"Model loaded successfully with accuracy: {100.*accuracy:.2f}%, loss: {validation_loss:.6f}, at epoch: {epoch}\")\n",
    "\n",
    "model = medcam.inject(model, output_dir='attention_maps', backend='gcam', save_maps=False, return_attention=True, layer='auto')"
   ]
  },
  {
   "cell_type": "code",
   "execution_count": null,
   "metadata": {},
   "outputs": [],
   "source": [
    "transform = transforms.Compose([\n",
    "    transforms.Resize(spatial_size=[110, 110, 110]),\n",
    "    transforms.NormalizeIntensity(nonzero=True, channel_wise=True),\n",
    "])"
   ]
  },
  {
   "cell_type": "code",
   "execution_count": null,
   "metadata": {},
   "outputs": [],
   "source": [
    "img_path = r\"C:\\Custom\\DataSet\\ADNI_预处理后\\Image\\brain_adni_0021_I196077_fsld.nii.gz\"\n",
    "nii_img = nib.load(img_path).get_fdata()\n",
    "nii_img = nii_img.astype(np.float32)\n",
    "original_img = nii_img\n",
    "nii_img = torch.from_numpy(nii_img)\n",
    "nii_img = nii_img.unsqueeze(0)\n",
    "nii_img = transform(nii_img)\n",
    "nii_img = nii_img.unsqueeze(0)\n",
    "nii_img = nii_img.as_tensor()\n",
    "print(nii_img.shape)"
   ]
  },
  {
   "cell_type": "code",
   "execution_count": null,
   "metadata": {},
   "outputs": [],
   "source": [
    "model.eval()\n",
    "with torch.no_grad():\n",
    "    # 进行预测\n",
    "    outputs, attention_map = model(nii_img)\n",
    "    # 输出处理，获取预测结果\n",
    "    _, predicted = torch.max(outputs, 1)\n",
    "    attention_map = attention_map.detach().cpu().numpy()\n",
    "attention_map = np.squeeze(attention_map)\n",
    "print('predicted:', predicted)\n",
    "print('attention_map shape:', attention_map.shape)"
   ]
  },
  {
   "cell_type": "code",
   "execution_count": null,
   "metadata": {},
   "outputs": [],
   "source": [
    "import matplotlib.pyplot as plt\n",
    "plt.imsave('./attention_maps/test.jpg', attention_map[40], cmap=\"jet\")"
   ]
  },
  {
   "cell_type": "code",
   "execution_count": null,
   "metadata": {},
   "outputs": [],
   "source": [
    "slice_idx = 50\n",
    "print(original_img[:,:,slice_idx].shape)\n",
    "plt.imshow(np.flipud(original_img[:,:,slice_idx].T), cmap='gray')\n",
    "plt.colorbar()\n",
    "plt.show()\n",
    "plt.close()"
   ]
  },
  {
   "cell_type": "code",
   "execution_count": null,
   "metadata": {},
   "outputs": [],
   "source": [
    "cnt = 0\n",
    "for i in range(110):\n",
    "    for j in range(110):\n",
    "        for k in range(110):\n",
    "            if attention_map[i][j][k] == 0:\n",
    "                cnt += 1\n",
    "            else:\n",
    "                print(\"test\")\n",
    "print(cnt)"
   ]
  },
  {
   "cell_type": "code",
   "execution_count": null,
   "metadata": {},
   "outputs": [],
   "source": [
    "plt.imshow(np.flipud(attention_map[:,:,slice_idx].T), cmap='jet')\n",
    "plt.colorbar()\n",
    "plt.show()\n",
    "plt.close()"
   ]
  },
  {
   "cell_type": "code",
   "execution_count": null,
   "metadata": {},
   "outputs": [],
   "source": []
  }
 ],
 "metadata": {
  "kernelspec": {
   "display_name": "mri",
   "language": "python",
   "name": "python3"
  },
  "language_info": {
   "codemirror_mode": {
    "name": "ipython",
    "version": 3
   },
   "file_extension": ".py",
   "mimetype": "text/x-python",
   "name": "python",
   "nbconvert_exporter": "python",
   "pygments_lexer": "ipython3",
   "version": "3.11.7"
  }
 },
 "nbformat": 4,
 "nbformat_minor": 2
}
