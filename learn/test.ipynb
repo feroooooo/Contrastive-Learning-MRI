{
 "cells": [
  {
   "cell_type": "code",
   "execution_count": 1,
   "metadata": {},
   "outputs": [],
   "source": [
    "import torch\n",
    "import torch.nn as nn\n",
    "import torch.optim as optim\n",
    "from torch.utils.data import DataLoader, random_split\n",
    "from torchvision.transforms import ToTensor\n",
    "import numpy as np\n",
    "import torch.nn.functional as F\n",
    "\n",
    "from MRI_dataset import ADNIDataset"
   ]
  },
  {
   "cell_type": "code",
   "execution_count": 2,
   "metadata": {},
   "outputs": [],
   "source": [
    "# 初始化数据集\n",
    "data_dir = \"D:/Data/MRI/ADNI/Image\"\n",
    "csv_path = \"D:/Data/MRI/ADNI/pheno_ADNI_longitudinal_new.csv\"\n",
    "dataset = ADNIDataset(data_dir=data_dir, csv_path=csv_path)\n",
    "\n",
    "# 数据集大小\n",
    "dataset_size = len(dataset)\n",
    "train_size = int(dataset_size * 0.7)\n",
    "val_size = int(dataset_size * 0.15)\n",
    "test_size = dataset_size - train_size - val_size\n",
    "\n",
    "# 数据集切分\n",
    "train_dataset, val_dataset, test_dataset = random_split(dataset, [train_size, val_size, test_size])\n",
    "\n",
    "# DataLoader\n",
    "batch_size = 4\n",
    "train_loader = DataLoader(train_dataset, batch_size=batch_size, shuffle=True)\n",
    "val_loader = DataLoader(val_dataset, batch_size=batch_size, shuffle=False)\n",
    "test_loader = DataLoader(test_dataset, batch_size=batch_size, shuffle=False)"
   ]
  },
  {
   "cell_type": "code",
   "execution_count": 3,
   "metadata": {},
   "outputs": [
    {
     "name": "stdout",
     "output_type": "stream",
     "text": [
      "torch.Size([1, 91, 109, 91])\n",
      "2772\n",
      "594\n",
      "594\n",
      "torch.Size([4, 1, 91, 109, 91])\n",
      "tensor([0, 2, 0, 0])\n"
     ]
    }
   ],
   "source": [
    "print(dataset[0][0].shape)\n",
    "print(len(train_dataset))\n",
    "print(len(test_dataset))\n",
    "print(len(val_dataset))\n",
    "for i, data in enumerate(train_loader):\n",
    "    inputs, labels = data\n",
    "    print(inputs.shape)\n",
    "    print(labels)\n",
    "    break"
   ]
  },
  {
   "cell_type": "code",
   "execution_count": 13,
   "metadata": {},
   "outputs": [],
   "source": [
    "# 定义CNN网络结构\n",
    "class SimpleCNN3D(nn.Module):\n",
    "    def __init__(self):\n",
    "        super(SimpleCNN3D, self).__init__()\n",
    "        self.conv1 = nn.Conv3d(1, 8, kernel_size=3, stride=1, padding=1)\n",
    "        self.pool = nn.MaxPool3d(kernel_size=2, stride=2)\n",
    "        self.conv2 = nn.Conv3d(8, 16, kernel_size=3, stride=1, padding=1)\n",
    "        self.fc1 = nn.Linear(16 * 22 * 27 * 22, 120)\n",
    "        self.fc2 = nn.Linear(120, 84)\n",
    "        self.fc3 = nn.Linear(84, 3)  # Assuming 3 classes for CN, MCI, and AD\n",
    "\n",
    "    def forward(self, x):\n",
    "        x = self.pool(F.relu(self.conv1(x)))\n",
    "        x = self.pool(F.relu(self.conv2(x)))\n",
    "        x = x.view(-1, 16 * 22 * 27 * 22)\n",
    "        x = F.relu(self.fc1(x))\n",
    "        x = F.relu(self.fc2(x))\n",
    "        x = self.fc3(x)\n",
    "        return x\n"
   ]
  },
  {
   "cell_type": "code",
   "execution_count": 10,
   "metadata": {},
   "outputs": [
    {
     "name": "stdout",
     "output_type": "stream",
     "text": [
      "torch.Size([4, 8, 45, 54, 45])\n",
      "torch.Size([4, 16, 22, 27, 22])\n",
      "torch.Size([4, 209088])\n",
      "torch.Size([4, 3])\n"
     ]
    }
   ],
   "source": [
    "test_net = SimpleCNN3D()\n",
    "for i, data in enumerate(train_loader):\n",
    "    inputs, labels = data\n",
    "    outputs = test_net(inputs)\n",
    "    print(outputs.shape)\n",
    "    break"
   ]
  },
  {
   "cell_type": "code",
   "execution_count": 14,
   "metadata": {},
   "outputs": [
    {
     "name": "stdout",
     "output_type": "stream",
     "text": [
      "[1, 100] loss: 22.597203034162522\n",
      "[1, 200] loss: 1.2069450399279595\n",
      "[1, 300] loss: 0.969096185863018\n",
      "[1, 400] loss: 0.9365454030036926\n",
      "[1, 500] loss: 0.9310309332609177\n",
      "[1, 600] loss: 0.9269363398849965\n",
      "[2, 100] loss: 0.6482769296504557\n",
      "[2, 200] loss: 0.5796486678160727\n",
      "[2, 300] loss: 0.6155265440791845\n",
      "[2, 400] loss: 0.5369631446828135\n",
      "[2, 500] loss: 0.49649072224041446\n",
      "[2, 600] loss: 0.46559560024994423\n",
      "Finished Training\n"
     ]
    }
   ],
   "source": [
    "# 实例化网络\n",
    "net = SimpleCNN3D()\n",
    "\n",
    "# 定义损失函数和优化器\n",
    "criterion = nn.CrossEntropyLoss()\n",
    "optimizer = optim.Adam(net.parameters(), lr=0.001)\n",
    "\n",
    "# 训练循环（简化版）\n",
    "epochs = 2  # 仅示例，实际训练可能需要更多epochs\n",
    "for epoch in range(epochs):\n",
    "    running_loss = 0.0\n",
    "    for i, data in enumerate(train_loader, 0):\n",
    "        inputs, labels = data\n",
    "\n",
    "        optimizer.zero_grad()\n",
    "\n",
    "        outputs = net(inputs)\n",
    "        loss = criterion(outputs, labels)\n",
    "        loss.backward()\n",
    "        optimizer.step()\n",
    "\n",
    "        running_loss += loss.item()\n",
    "        if i % 100 == 99:  # 每100个batch打印一次\n",
    "            print(f\"[{epoch + 1}, {i + 1}] loss: {running_loss / 100}\")\n",
    "            running_loss = 0.0\n",
    "\n",
    "print('Finished Training')"
   ]
  },
  {
   "cell_type": "code",
   "execution_count": 6,
   "metadata": {},
   "outputs": [
    {
     "name": "stdout",
     "output_type": "stream",
     "text": [
      "\u001b[33mtest\u001b[0m\n"
     ]
    }
   ],
   "source": [
    "print(\"\\033[33mInfomations:\\033[0m\")"
   ]
  }
 ],
 "metadata": {
  "kernelspec": {
   "display_name": "mri",
   "language": "python",
   "name": "python3"
  },
  "language_info": {
   "codemirror_mode": {
    "name": "ipython",
    "version": 3
   },
   "file_extension": ".py",
   "mimetype": "text/x-python",
   "name": "python",
   "nbconvert_exporter": "python",
   "pygments_lexer": "ipython3",
   "version": "3.11.7"
  }
 },
 "nbformat": 4,
 "nbformat_minor": 2
}
