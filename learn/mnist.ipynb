{
 "cells": [
  {
   "cell_type": "code",
   "execution_count": 1,
   "metadata": {},
   "outputs": [],
   "source": [
    "import torch\n",
    "import torch.nn as nn\n",
    "import torch.nn.functional as F\n",
    "import torch.optim as optim\n",
    "from torchvision import datasets, transforms\n",
    "from torch.utils.data import DataLoader"
   ]
  },
  {
   "cell_type": "code",
   "execution_count": 2,
   "metadata": {},
   "outputs": [],
   "source": [
    "class CNN(nn.Module):\n",
    "    def __init__(self):\n",
    "        super(CNN, self).__init__()\n",
    "        self.conv1 = nn.Conv2d(1, 10, kernel_size=5)\n",
    "        self.conv2 = nn.Conv2d(10, 20, kernel_size=5)\n",
    "        self.conv2_drop = nn.Dropout2d()\n",
    "        self.fc1 = nn.Linear(320, 50)\n",
    "        self.fc2 = nn.Linear(50, 10)\n",
    "\n",
    "    def forward(self, x):\n",
    "        x = F.relu(F.max_pool2d(self.conv1(x), 2))\n",
    "        x = F.relu(F.max_pool2d(self.conv2_drop(self.conv2(x)), 2))\n",
    "        x = x.view(-1, 320)\n",
    "        x = F.relu(self.fc1(x))\n",
    "        x = F.dropout(x, training=self.training)\n",
    "        x = self.fc2(x)\n",
    "        return F.log_softmax(x, dim=1)"
   ]
  },
  {
   "cell_type": "code",
   "execution_count": 3,
   "metadata": {},
   "outputs": [
    {
     "name": "stdout",
     "output_type": "stream",
     "text": [
      "Downloading http://yann.lecun.com/exdb/mnist/train-images-idx3-ubyte.gz\n",
      "Downloading http://yann.lecun.com/exdb/mnist/train-images-idx3-ubyte.gz to ./data\\MNIST\\raw\\train-images-idx3-ubyte.gz\n"
     ]
    },
    {
     "name": "stderr",
     "output_type": "stream",
     "text": [
      "100.0%\n"
     ]
    },
    {
     "name": "stdout",
     "output_type": "stream",
     "text": [
      "Extracting ./data\\MNIST\\raw\\train-images-idx3-ubyte.gz to ./data\\MNIST\\raw\n",
      "\n",
      "Downloading http://yann.lecun.com/exdb/mnist/train-labels-idx1-ubyte.gz\n",
      "Downloading http://yann.lecun.com/exdb/mnist/train-labels-idx1-ubyte.gz to ./data\\MNIST\\raw\\train-labels-idx1-ubyte.gz\n"
     ]
    },
    {
     "name": "stderr",
     "output_type": "stream",
     "text": [
      "100.0%\n"
     ]
    },
    {
     "name": "stdout",
     "output_type": "stream",
     "text": [
      "Extracting ./data\\MNIST\\raw\\train-labels-idx1-ubyte.gz to ./data\\MNIST\\raw\n",
      "\n",
      "Downloading http://yann.lecun.com/exdb/mnist/t10k-images-idx3-ubyte.gz\n",
      "Downloading http://yann.lecun.com/exdb/mnist/t10k-images-idx3-ubyte.gz to ./data\\MNIST\\raw\\t10k-images-idx3-ubyte.gz\n"
     ]
    },
    {
     "name": "stderr",
     "output_type": "stream",
     "text": [
      "100.0%\n"
     ]
    },
    {
     "name": "stdout",
     "output_type": "stream",
     "text": [
      "Extracting ./data\\MNIST\\raw\\t10k-images-idx3-ubyte.gz to ./data\\MNIST\\raw\n",
      "\n",
      "Downloading http://yann.lecun.com/exdb/mnist/t10k-labels-idx1-ubyte.gz\n",
      "Downloading http://yann.lecun.com/exdb/mnist/t10k-labels-idx1-ubyte.gz to ./data\\MNIST\\raw\\t10k-labels-idx1-ubyte.gz\n"
     ]
    },
    {
     "name": "stderr",
     "output_type": "stream",
     "text": [
      "100.0%"
     ]
    },
    {
     "name": "stdout",
     "output_type": "stream",
     "text": [
      "Extracting ./data\\MNIST\\raw\\t10k-labels-idx1-ubyte.gz to ./data\\MNIST\\raw\n",
      "\n"
     ]
    },
    {
     "name": "stderr",
     "output_type": "stream",
     "text": [
      "\n"
     ]
    }
   ],
   "source": [
    "# 设置数据转换\n",
    "transform=transforms.Compose([\n",
    "    transforms.ToTensor(),\n",
    "    transforms.Normalize((0.1307,), (0.3081,))\n",
    "])\n",
    "\n",
    "# 加载MNIST数据集\n",
    "train_dataset = datasets.MNIST('./data', train=True, download=True, transform=transform)\n",
    "test_dataset = datasets.MNIST('./data', train=False, transform=transform)\n",
    "\n",
    "train_loader = DataLoader(train_dataset, batch_size=64, shuffle=True)\n",
    "test_loader = DataLoader(test_dataset, batch_size=1000, shuffle=False)"
   ]
  },
  {
   "cell_type": "code",
   "execution_count": 4,
   "metadata": {},
   "outputs": [],
   "source": [
    "def train(model, device, train_loader, optimizer, epoch):\n",
    "    model.train()\n",
    "    for batch_idx, (data, target) in enumerate(train_loader):\n",
    "        data, target = data.to(device), target.to(device)\n",
    "        optimizer.zero_grad()\n",
    "        output = model(data)\n",
    "        loss = F.nll_loss(output, target)\n",
    "        loss.backward()\n",
    "        optimizer.step()\n",
    "        if batch_idx % 100 == 0:\n",
    "            print('Train Epoch: {} [{}/{} ({:.0f}%)]\\tLoss: {:.6f}'.format(\n",
    "                epoch, batch_idx * len(data), len(train_loader.dataset),\n",
    "                100. * batch_idx / len(train_loader), loss.item()))"
   ]
  },
  {
   "cell_type": "code",
   "execution_count": 5,
   "metadata": {},
   "outputs": [],
   "source": [
    "def test(model, device, test_loader):\n",
    "    model.eval()\n",
    "    test_loss = 0\n",
    "    correct = 0\n",
    "    with torch.no_grad():\n",
    "        for data, target in test_loader:\n",
    "            data, target = data.to(device), target.to(device)\n",
    "            output = model(data)\n",
    "            test_loss += F.nll_loss(output, target, reduction='sum').item()\n",
    "            pred = output.argmax(dim=1, keepdim=True)\n",
    "            correct += pred.eq(target.view_as(pred)).sum().item()\n",
    "    test_loss /= len(test_loader.dataset)\n",
    "\n",
    "    print('\\nTest set: Average loss: {:.4f}, Accuracy: {}/{} ({:.0f}%)\\n'.format(\n",
    "        test_loss, correct, len(test_loader.dataset),\n",
    "        100. * correct / len(test_loader.dataset)))"
   ]
  },
  {
   "cell_type": "code",
   "execution_count": 6,
   "metadata": {},
   "outputs": [
    {
     "name": "stdout",
     "output_type": "stream",
     "text": [
      "Train Epoch: 1 [0/60000 (0%)]\tLoss: 2.320864\n",
      "Train Epoch: 1 [6400/60000 (11%)]\tLoss: 2.039037\n",
      "Train Epoch: 1 [12800/60000 (21%)]\tLoss: 1.209418\n",
      "Train Epoch: 1 [19200/60000 (32%)]\tLoss: 0.717672\n",
      "Train Epoch: 1 [25600/60000 (43%)]\tLoss: 0.643995\n",
      "Train Epoch: 1 [32000/60000 (53%)]\tLoss: 0.686166\n",
      "Train Epoch: 1 [38400/60000 (64%)]\tLoss: 0.451286\n",
      "Train Epoch: 1 [44800/60000 (75%)]\tLoss: 0.443755\n",
      "Train Epoch: 1 [51200/60000 (85%)]\tLoss: 0.596283\n",
      "Train Epoch: 1 [57600/60000 (96%)]\tLoss: 0.417277\n",
      "\n",
      "Test set: Average loss: 0.1920, Accuracy: 9422/10000 (94%)\n",
      "\n",
      "Train Epoch: 2 [0/60000 (0%)]\tLoss: 0.698409\n",
      "Train Epoch: 2 [6400/60000 (11%)]\tLoss: 0.367976\n",
      "Train Epoch: 2 [12800/60000 (21%)]\tLoss: 0.847180\n",
      "Train Epoch: 2 [19200/60000 (32%)]\tLoss: 0.348354\n",
      "Train Epoch: 2 [25600/60000 (43%)]\tLoss: 0.299443\n",
      "Train Epoch: 2 [32000/60000 (53%)]\tLoss: 0.318427\n",
      "Train Epoch: 2 [38400/60000 (64%)]\tLoss: 0.242325\n",
      "Train Epoch: 2 [44800/60000 (75%)]\tLoss: 0.349813\n",
      "Train Epoch: 2 [51200/60000 (85%)]\tLoss: 0.213626\n",
      "Train Epoch: 2 [57600/60000 (96%)]\tLoss: 0.224461\n",
      "\n",
      "Test set: Average loss: 0.1156, Accuracy: 9646/10000 (96%)\n",
      "\n",
      "Train Epoch: 3 [0/60000 (0%)]\tLoss: 0.379428\n",
      "Train Epoch: 3 [6400/60000 (11%)]\tLoss: 0.315278\n",
      "Train Epoch: 3 [12800/60000 (21%)]\tLoss: 0.370455\n",
      "Train Epoch: 3 [19200/60000 (32%)]\tLoss: 0.265967\n",
      "Train Epoch: 3 [25600/60000 (43%)]\tLoss: 0.404859\n",
      "Train Epoch: 3 [32000/60000 (53%)]\tLoss: 0.189703\n",
      "Train Epoch: 3 [38400/60000 (64%)]\tLoss: 0.233870\n",
      "Train Epoch: 3 [44800/60000 (75%)]\tLoss: 0.419513\n",
      "Train Epoch: 3 [51200/60000 (85%)]\tLoss: 0.147160\n",
      "Train Epoch: 3 [57600/60000 (96%)]\tLoss: 0.216204\n",
      "\n",
      "Test set: Average loss: 0.0891, Accuracy: 9719/10000 (97%)\n",
      "\n",
      "Train Epoch: 4 [0/60000 (0%)]\tLoss: 0.307886\n",
      "Train Epoch: 4 [6400/60000 (11%)]\tLoss: 0.227461\n",
      "Train Epoch: 4 [12800/60000 (21%)]\tLoss: 0.125959\n",
      "Train Epoch: 4 [19200/60000 (32%)]\tLoss: 0.373313\n",
      "Train Epoch: 4 [25600/60000 (43%)]\tLoss: 0.148394\n",
      "Train Epoch: 4 [32000/60000 (53%)]\tLoss: 0.316866\n",
      "Train Epoch: 4 [38400/60000 (64%)]\tLoss: 0.239705\n",
      "Train Epoch: 4 [44800/60000 (75%)]\tLoss: 0.285051\n",
      "Train Epoch: 4 [51200/60000 (85%)]\tLoss: 0.374506\n",
      "Train Epoch: 4 [57600/60000 (96%)]\tLoss: 0.203518\n",
      "\n",
      "Test set: Average loss: 0.0754, Accuracy: 9750/10000 (98%)\n",
      "\n",
      "Train Epoch: 5 [0/60000 (0%)]\tLoss: 0.240974\n",
      "Train Epoch: 5 [6400/60000 (11%)]\tLoss: 0.161527\n",
      "Train Epoch: 5 [12800/60000 (21%)]\tLoss: 0.201143\n",
      "Train Epoch: 5 [19200/60000 (32%)]\tLoss: 0.256225\n",
      "Train Epoch: 5 [25600/60000 (43%)]\tLoss: 0.133676\n",
      "Train Epoch: 5 [32000/60000 (53%)]\tLoss: 0.338714\n",
      "Train Epoch: 5 [38400/60000 (64%)]\tLoss: 0.193606\n",
      "Train Epoch: 5 [44800/60000 (75%)]\tLoss: 0.279556\n",
      "Train Epoch: 5 [51200/60000 (85%)]\tLoss: 0.141730\n",
      "Train Epoch: 5 [57600/60000 (96%)]\tLoss: 0.103862\n",
      "\n",
      "Test set: Average loss: 0.0696, Accuracy: 9774/10000 (98%)\n",
      "\n",
      "Train Epoch: 6 [0/60000 (0%)]\tLoss: 0.083214\n",
      "Train Epoch: 6 [6400/60000 (11%)]\tLoss: 0.303816\n",
      "Train Epoch: 6 [12800/60000 (21%)]\tLoss: 0.198273\n",
      "Train Epoch: 6 [19200/60000 (32%)]\tLoss: 0.095022\n",
      "Train Epoch: 6 [25600/60000 (43%)]\tLoss: 0.158586\n",
      "Train Epoch: 6 [32000/60000 (53%)]\tLoss: 0.183393\n",
      "Train Epoch: 6 [38400/60000 (64%)]\tLoss: 0.165860\n",
      "Train Epoch: 6 [44800/60000 (75%)]\tLoss: 0.190218\n",
      "Train Epoch: 6 [51200/60000 (85%)]\tLoss: 0.175753\n",
      "Train Epoch: 6 [57600/60000 (96%)]\tLoss: 0.119649\n",
      "\n",
      "Test set: Average loss: 0.0644, Accuracy: 9787/10000 (98%)\n",
      "\n",
      "Train Epoch: 7 [0/60000 (0%)]\tLoss: 0.106607\n",
      "Train Epoch: 7 [6400/60000 (11%)]\tLoss: 0.230993\n",
      "Train Epoch: 7 [12800/60000 (21%)]\tLoss: 0.188005\n",
      "Train Epoch: 7 [19200/60000 (32%)]\tLoss: 0.584851\n",
      "Train Epoch: 7 [25600/60000 (43%)]\tLoss: 0.429984\n",
      "Train Epoch: 7 [32000/60000 (53%)]\tLoss: 0.335873\n",
      "Train Epoch: 7 [38400/60000 (64%)]\tLoss: 0.231748\n",
      "Train Epoch: 7 [44800/60000 (75%)]\tLoss: 0.129026\n",
      "Train Epoch: 7 [51200/60000 (85%)]\tLoss: 0.166106\n",
      "Train Epoch: 7 [57600/60000 (96%)]\tLoss: 0.288040\n",
      "\n",
      "Test set: Average loss: 0.0582, Accuracy: 9805/10000 (98%)\n",
      "\n",
      "Train Epoch: 8 [0/60000 (0%)]\tLoss: 0.288942\n",
      "Train Epoch: 8 [6400/60000 (11%)]\tLoss: 0.315462\n",
      "Train Epoch: 8 [12800/60000 (21%)]\tLoss: 0.134507\n",
      "Train Epoch: 8 [19200/60000 (32%)]\tLoss: 0.080579\n",
      "Train Epoch: 8 [25600/60000 (43%)]\tLoss: 0.330487\n",
      "Train Epoch: 8 [32000/60000 (53%)]\tLoss: 0.074722\n",
      "Train Epoch: 8 [38400/60000 (64%)]\tLoss: 0.104264\n",
      "Train Epoch: 8 [44800/60000 (75%)]\tLoss: 0.408570\n",
      "Train Epoch: 8 [51200/60000 (85%)]\tLoss: 0.342670\n",
      "Train Epoch: 8 [57600/60000 (96%)]\tLoss: 0.224463\n",
      "\n",
      "Test set: Average loss: 0.0559, Accuracy: 9822/10000 (98%)\n",
      "\n",
      "Train Epoch: 9 [0/60000 (0%)]\tLoss: 0.066837\n",
      "Train Epoch: 9 [6400/60000 (11%)]\tLoss: 0.280009\n",
      "Train Epoch: 9 [12800/60000 (21%)]\tLoss: 0.139999\n",
      "Train Epoch: 9 [19200/60000 (32%)]\tLoss: 0.295175\n",
      "Train Epoch: 9 [25600/60000 (43%)]\tLoss: 0.234879\n",
      "Train Epoch: 9 [32000/60000 (53%)]\tLoss: 0.093374\n",
      "Train Epoch: 9 [38400/60000 (64%)]\tLoss: 0.198353\n",
      "Train Epoch: 9 [44800/60000 (75%)]\tLoss: 0.332457\n",
      "Train Epoch: 9 [51200/60000 (85%)]\tLoss: 0.138608\n",
      "Train Epoch: 9 [57600/60000 (96%)]\tLoss: 0.266774\n",
      "\n",
      "Test set: Average loss: 0.0499, Accuracy: 9821/10000 (98%)\n",
      "\n",
      "Train Epoch: 10 [0/60000 (0%)]\tLoss: 0.145893\n",
      "Train Epoch: 10 [6400/60000 (11%)]\tLoss: 0.186462\n",
      "Train Epoch: 10 [12800/60000 (21%)]\tLoss: 0.140360\n",
      "Train Epoch: 10 [19200/60000 (32%)]\tLoss: 0.217411\n",
      "Train Epoch: 10 [25600/60000 (43%)]\tLoss: 0.285032\n",
      "Train Epoch: 10 [32000/60000 (53%)]\tLoss: 0.151155\n",
      "Train Epoch: 10 [38400/60000 (64%)]\tLoss: 0.192033\n",
      "Train Epoch: 10 [44800/60000 (75%)]\tLoss: 0.176371\n",
      "Train Epoch: 10 [51200/60000 (85%)]\tLoss: 0.229650\n",
      "Train Epoch: 10 [57600/60000 (96%)]\tLoss: 0.088597\n",
      "\n",
      "Test set: Average loss: 0.0540, Accuracy: 9829/10000 (98%)\n",
      "\n"
     ]
    }
   ],
   "source": [
    "device = torch.device(\"cuda\" if torch.cuda.is_available() else \"cpu\")\n",
    "model = CNN().to(device)\n",
    "optimizer = optim.SGD(model.parameters(), lr=0.01, momentum=0.5)\n",
    "\n",
    "for epoch in range(1, 11):  # 总共训练10个epochs\n",
    "    train(model, device, train_loader, optimizer, epoch)\n",
    "    test(model, device, test_loader)"
   ]
  },
  {
   "cell_type": "code",
   "execution_count": 13,
   "metadata": {},
   "outputs": [
    {
     "name": "stdout",
     "output_type": "stream",
     "text": [
      "<class 'PIL.Image.Image'> <PIL.Image.Image image mode=L size=28x28 at 0x2DAC94EB1D0>\n",
      "torch.Size([1, 28, 28])\n"
     ]
    }
   ],
   "source": [
    "model.eval()\n",
    "with torch.no_grad():\n",
    "    temp_dataset = datasets.MNIST('./data', train=False)\n",
    "    print(type(temp_dataset[0][0]), temp_dataset[0][0])\n",
    "    print(transforms.ToTensor()(temp_dataset[0][0]).shape)"
   ]
  },
  {
   "cell_type": "code",
   "execution_count": 21,
   "metadata": {},
   "outputs": [
    {
     "name": "stdout",
     "output_type": "stream",
     "text": [
      "0 torch.Size([64])\n",
      "torch.Size([64, 1, 28, 28])\n"
     ]
    }
   ],
   "source": [
    "type(temp_dataset[0][1])\n",
    "for i, data in enumerate(train_loader, 0):\n",
    "    inputs, labels = data\n",
    "    print(i, labels.shape)\n",
    "    print(inputs.shape)\n",
    "    break"
   ]
  },
  {
   "cell_type": "code",
   "execution_count": null,
   "metadata": {},
   "outputs": [],
   "source": []
  }
 ],
 "metadata": {
  "kernelspec": {
   "display_name": "mri",
   "language": "python",
   "name": "python3"
  },
  "language_info": {
   "codemirror_mode": {
    "name": "ipython",
    "version": 3
   },
   "file_extension": ".py",
   "mimetype": "text/x-python",
   "name": "python",
   "nbconvert_exporter": "python",
   "pygments_lexer": "ipython3",
   "version": "3.11.7"
  }
 },
 "nbformat": 4,
 "nbformat_minor": 2
}
